{
  "cells": [
    {
      "cell_type": "markdown",
      "metadata": {
        "id": "GpCnZLrkAIdr"
      },
      "source": [
        "<a href=\"http://cocl.us/pytorch_link_top\">\n",
        "    <img src=\"https://s3-api.us-geo.objectstorage.softlayer.net/cf-courses-data/CognitiveClass/DL0110EN/notebook_images%20/Pytochtop.png\" width=\"750\" alt=\"IBM Product \">\n",
        "</a>\n"
      ]
    },
    {
      "cell_type": "markdown",
      "metadata": {
        "id": "nArX7yQ7AIdv"
      },
      "source": [
        "<img src=\"https://cf-courses-data.s3.us.cloud-object-storage.appdomain.cloud/IBMDeveloperSkillsNetwork-DL0321EN-SkillsNetwork/image/IDSN-logo.png\" width=\"200\" alt=\"cognitiveclass.ai logo\">\n"
      ]
    },
    {
      "cell_type": "markdown",
      "metadata": {
        "id": "FmumzXhZAIdx"
      },
      "source": [
        "<h1>Objective</h1><ul><li> How to use linear classifier in pytorch.</li></ul>\n"
      ]
    },
    {
      "cell_type": "markdown",
      "metadata": {
        "id": "5iA2lMJEAIdy"
      },
      "source": [
        "<h1>Linear  Classifier with PyTorch </h1>\n"
      ]
    },
    {
      "cell_type": "markdown",
      "metadata": {
        "id": "TjrwUVtBAIdy"
      },
      "source": [
        "<p>Before you use a  Deep neural network to solve the classification problem,  it 's a good idea to try and solve the problem with the simplest method. You will need the dataset object from the previous section.\n",
        "In this lab, we solve the problem with a linear classifier.\n",
        " You will be asked to determine the maximum accuracy your linear classifier can achieve on the validation data for 5 epochs. We will give some free parameter values if you follow the instructions you will be able to answer the quiz. Just like the other labs there are several steps, but in this lab you will only be quizzed on the final result. </p>\n"
      ]
    },
    {
      "cell_type": "markdown",
      "metadata": {
        "id": "dLeqQXKlAIdz"
      },
      "source": [
        "<h2>Table of Contents</h2>\n"
      ]
    },
    {
      "cell_type": "markdown",
      "metadata": {
        "id": "FVBnYBv9AId0"
      },
      "source": [
        "<div class=\"alert alert-block alert-info\" style=\"margin-top: 20px\">\n",
        "\n",
        "\n",
        "<ul>\n",
        "    <li><a href=\"#auxiliary\"> Imports and Auxiliary Functions </a></li>\n",
        "    <li><a href=\"#download_data\"> Download data</a></li>\n",
        "    <li><a href=\"#data_class\"> Dataset Class</a></li>\n",
        "    <li><a href=\"#trasform_Data_object\">Transform Object and Dataset Object</a></li>\n",
        "    <li><a href=\"#Question\">Question</a></li>\n",
        "</ul>\n",
        "<p>Estimated Time Needed: <strong>25 min</strong></p>\n",
        " </div>\n",
        "<hr>\n"
      ]
    },
    {
      "cell_type": "markdown",
      "metadata": {
        "id": "rBEUcV2yAId0"
      },
      "source": [
        "<h2 id=\"auxiliary\">Imports and Auxiliary Functions</h2>\n"
      ]
    },
    {
      "cell_type": "markdown",
      "metadata": {
        "id": "z-0HY8nTAId1"
      },
      "source": [
        "The following are the libraries we are going to use for this lab:\n"
      ]
    },
    {
      "cell_type": "code",
      "execution_count": 1,
      "metadata": {
        "id": "hILADydmAId2"
      },
      "outputs": [],
      "source": [
        "from PIL import Image\n",
        "import matplotlib.pyplot as plt\n",
        "import os\n",
        "import glob\n",
        "import torch\n",
        "from torch.utils.data import Dataset, DataLoader\n",
        "import torchvision.transforms as transforms\n",
        "import torch.nn as nn\n",
        "from torch import optim\n",
        "import requests\n",
        "import zipfile"
      ]
    },
    {
      "cell_type": "markdown",
      "metadata": {
        "id": "QLkBK5MSAId3"
      },
      "source": [
        "<h2 id=\"download_data\">Download Data</h2>\n"
      ]
    },
    {
      "cell_type": "markdown",
      "metadata": {
        "id": "3cVQ6AKJAId3"
      },
      "source": [
        "In this section, you are going to download the data from IBM object storage using **skillsnetwork.prepare** command. <b>skillsnetwork.prepare</b> is a command that's used to download a zip file, unzip it and store it in a specified directory. Locally we store the data in the directory  **/resources/data**.\n"
      ]
    },
    {
      "cell_type": "markdown",
      "metadata": {
        "id": "UToEEhQNAId4"
      },
      "source": [
        "First, we download the file that contains the images:\n"
      ]
    },
    {
      "cell_type": "code",
      "execution_count": 2,
      "metadata": {
        "colab": {
          "base_uri": "https://localhost:8080/"
        },
        "id": "UFusyJlbAId4",
        "outputId": "6e62db54-e3c3-4630-e48d-f3b4e383fc76"
      },
      "outputs": [
        {
          "output_type": "stream",
          "name": "stdout",
          "text": [
            "Downloaded and extracted to /resources/data\n"
          ]
        }
      ],
      "source": [
        "\n",
        "def download_and_extract(url, extract_to='.'):\n",
        "    os.makedirs(extract_to, exist_ok=True)\n",
        "\n",
        "    local_filename = url.split('/')[-1]\n",
        "    local_path = os.path.join(extract_to, local_filename)\n",
        "\n",
        "    with requests.get(url, stream=True) as r:\n",
        "        r.raise_for_status()\n",
        "        with open(local_path, 'wb') as f:\n",
        "            for chunk in r.iter_content(chunk_size=8192):\n",
        "                f.write(chunk)\n",
        "\n",
        "    with zipfile.ZipFile(local_path, 'r') as zip_ref:\n",
        "        zip_ref.extractall(extract_to)\n",
        "\n",
        "    print(f\"Downloaded and extracted to {extract_to}\")\n",
        "\n",
        "url = \"https://s3-api.us-geo.objectstorage.softlayer.net/cf-courses-data/CognitiveClass/DL0321EN/data/images/concrete_crack_images_for_classification.zip\"\n",
        "extraction_path = \"/resources/data\"\n",
        "\n",
        "if not os.path.exists(extraction_path):\n",
        "    os.makedirs(extraction_path, exist_ok=True)\n",
        "\n",
        "download_and_extract(url, extract_to=extraction_path)\n"
      ]
    },
    {
      "cell_type": "markdown",
      "metadata": {
        "id": "bt6go6lbAId5"
      },
      "source": [
        "<h2 id=\"data_class\">Dataset Class</h2>\n"
      ]
    },
    {
      "cell_type": "markdown",
      "metadata": {
        "id": "zZspPMgxAId6"
      },
      "source": [
        "In this section, we will use the previous code to build a dataset class. As before, make sure the even samples are positive, and the odd samples are negative.  In this case, if the parameter <code>train</code> is set to <code>True</code>, use the first 10 000 samples as training data; otherwise, the last 10 000 samples will be used as validation data. Do not forget to sort your files so they are in the same order.  \n"
      ]
    },
    {
      "cell_type": "markdown",
      "metadata": {
        "id": "HaMTuwckAId6"
      },
      "source": [
        "**Note:** We are using the first 10,000 samples as our training data instead of the available 30,000 to decrease the training time of the model. If you want, you can train it yourself with all 30,000 samples just by modifying 2 lines in the following code chunk.\n"
      ]
    },
    {
      "cell_type": "code",
      "execution_count": 3,
      "metadata": {
        "id": "5EQJBGWJAId6"
      },
      "outputs": [],
      "source": [
        "class Dataset(Dataset):\n",
        "\n",
        "    # Constructor\n",
        "    def __init__(self,transform=None,train=True):\n",
        "        directory=\"/resources/data\"\n",
        "        positive=\"Positive\"\n",
        "        negative=\"Negative\"\n",
        "\n",
        "        positive_file_path=os.path.join(directory,positive)\n",
        "        negative_file_path=os.path.join(directory,negative)\n",
        "        positive_files=[os.path.join(positive_file_path,file) for file in  os.listdir(positive_file_path) if file.endswith(\".jpg\")]\n",
        "        positive_files.sort()\n",
        "        negative_files=[os.path.join(negative_file_path,file) for file in  os.listdir(negative_file_path) if file.endswith(\".jpg\")]\n",
        "        negative_files.sort()\n",
        "        number_of_samples=len(positive_files)+len(negative_files)\n",
        "        self.all_files=[None]*number_of_samples\n",
        "        self.all_files[::2]=positive_files\n",
        "        self.all_files[1::2]=negative_files\n",
        "        # The transform is goint to be used on image\n",
        "        self.transform = transform\n",
        "        #torch.LongTensor\n",
        "        self.Y=torch.zeros([number_of_samples]).type(torch.LongTensor)\n",
        "        self.Y[::2]=1\n",
        "        self.Y[1::2]=0\n",
        "\n",
        "        if train:\n",
        "            self.all_files=self.all_files[0:30000] #Change to 30000 to use the full test dataset\n",
        "            self.Y=self.Y[0:30000] #Change to 30000 to use the full test dataset\n",
        "            self.len=len(self.all_files)\n",
        "        else:\n",
        "            self.all_files=self.all_files[30000:]\n",
        "            self.Y=self.Y[30000:]\n",
        "            self.len=len(self.all_files)\n",
        "\n",
        "    # Get the length\n",
        "    def __len__(self):\n",
        "        return self.len\n",
        "\n",
        "    # Getter\n",
        "    def __getitem__(self, idx):\n",
        "\n",
        "\n",
        "        image=Image.open(self.all_files[idx])\n",
        "        y=self.Y[idx]\n",
        "\n",
        "\n",
        "        # If there is any transform method, apply it onto the image\n",
        "        if self.transform:\n",
        "            image = self.transform(image)\n",
        "\n",
        "        return image, y"
      ]
    },
    {
      "cell_type": "markdown",
      "metadata": {
        "id": "zi8aPfUMAId6"
      },
      "source": [
        "<h2 id=\"trasform_Data_object\">Transform Object and Dataset Object</h2>\n"
      ]
    },
    {
      "cell_type": "markdown",
      "metadata": {
        "id": "z9XlhRU-AId6"
      },
      "source": [
        "Create a transform object, that uses the <code>Compose</code> function. First use the transform <code>ToTensor()</code> and followed by <code>Normalize(mean, std)</code>. The value for <code> mean</code> and <code>std</code> are provided for you.\n"
      ]
    },
    {
      "cell_type": "code",
      "execution_count": 4,
      "metadata": {
        "id": "vowHHlw1AId7"
      },
      "outputs": [],
      "source": [
        "mean = [0.485, 0.456, 0.406]\n",
        "std = [0.229, 0.224, 0.225]\n",
        "\n",
        "transform =transforms.Compose([ transforms.ToTensor(), transforms.Normalize(mean, std)])\n"
      ]
    },
    {
      "cell_type": "markdown",
      "metadata": {
        "id": "h1_6uEtFAId7"
      },
      "source": [
        "Create object for the training data  <code>dataset_train</code> and validation <code>dataset_val</code>. Use the transform object to convert the images to tensors using the transform object:\n"
      ]
    },
    {
      "cell_type": "code",
      "execution_count": 5,
      "metadata": {
        "id": "1Nnpmht_AId7"
      },
      "outputs": [],
      "source": [
        "dataset_train=Dataset(transform=transform,train=True)\n",
        "dataset_val=Dataset(transform=transform,train=False)"
      ]
    },
    {
      "cell_type": "markdown",
      "metadata": {
        "id": "pBEXwmc1AId7"
      },
      "source": [
        "We  can find the shape of the image:\n"
      ]
    },
    {
      "cell_type": "code",
      "execution_count": 6,
      "metadata": {
        "id": "Tvl3Kc51AId7",
        "outputId": "375223a7-4590-4e28-fbdf-6c5405317b0a",
        "colab": {
          "base_uri": "https://localhost:8080/"
        }
      },
      "outputs": [
        {
          "output_type": "execute_result",
          "data": {
            "text/plain": [
              "torch.Size([3, 227, 227])"
            ]
          },
          "metadata": {},
          "execution_count": 6
        }
      ],
      "source": [
        "dataset_train[0][0].shape"
      ]
    },
    {
      "cell_type": "markdown",
      "metadata": {
        "id": "hhULkBAWAId8"
      },
      "source": [
        "We see that it's a color image with three channels:\n"
      ]
    },
    {
      "cell_type": "code",
      "execution_count": 7,
      "metadata": {
        "id": "GUnHDwtLAId8",
        "outputId": "9e676461-70c0-46de-dc85-ab8992c5b4f9",
        "colab": {
          "base_uri": "https://localhost:8080/"
        }
      },
      "outputs": [
        {
          "output_type": "execute_result",
          "data": {
            "text/plain": [
              "154587"
            ]
          },
          "metadata": {},
          "execution_count": 7
        }
      ],
      "source": [
        "size_of_image=3*227*227\n",
        "size_of_image"
      ]
    },
    {
      "cell_type": "markdown",
      "metadata": {
        "id": "NSIrUNzhAId8"
      },
      "source": [
        "<h2 id=\"Question\"> Question <h2>\n"
      ]
    },
    {
      "cell_type": "markdown",
      "metadata": {
        "id": "w9l11kSvAId8"
      },
      "source": [
        "<b> Create a custom module for Softmax for two classes,called model. The input size should be the <code>size_of_image</code>, you should record the maximum accuracy achieved on the validation data for the different epochs. For example if the 5 epochs the accuracy was 0.5, 0.2, 0.64,0.77, 0.66 you would select 0.77.</b>\n"
      ]
    },
    {
      "cell_type": "markdown",
      "metadata": {
        "id": "MS_dYE45AId8"
      },
      "source": [
        "Train the model with the following free parameter values:\n"
      ]
    },
    {
      "cell_type": "markdown",
      "metadata": {
        "id": "46WTNy7BAId8"
      },
      "source": [
        "<b>Parameter Values</b>\n",
        "   <li>learning rate:0.1 </li>\n",
        "   <li>momentum term:0.1 </li>\n",
        "   <li>batch size training:5</li>\n",
        "   <li>Loss function:Cross Entropy Loss </li>\n",
        "   <li>epochs:5</li>\n",
        "   <li>set: torch.manual_seed(0)</li>\n"
      ]
    },
    {
      "cell_type": "code",
      "execution_count": 8,
      "metadata": {
        "id": "T-nHzIErAId8",
        "outputId": "ae3777ab-974e-4c5d-b8f0-05babd24aeb9",
        "colab": {
          "base_uri": "https://localhost:8080/"
        }
      },
      "outputs": [
        {
          "output_type": "execute_result",
          "data": {
            "text/plain": [
              "<torch._C.Generator at 0x7a0fff7e93b0>"
            ]
          },
          "metadata": {},
          "execution_count": 8
        }
      ],
      "source": [
        "torch.manual_seed(0)"
      ]
    },
    {
      "cell_type": "markdown",
      "metadata": {
        "id": "66HeRlpWAId9"
      },
      "source": [
        "<b>Custom Module:</b>\n"
      ]
    },
    {
      "cell_type": "code",
      "execution_count": 9,
      "metadata": {
        "id": "Z24sPDzqAId9"
      },
      "outputs": [],
      "source": [
        "class SoftMax(nn.Module):\n",
        "\n",
        "    # Constructor\n",
        "    def __init__(self, input_size, output_size):\n",
        "        super(SoftMax, self).__init__()\n",
        "        self.linear = nn.Linear(input_size, output_size)\n",
        "\n",
        "    # Prediction\n",
        "    def forward(self, x):\n",
        "        z = self.linear(x)\n",
        "        return z"
      ]
    },
    {
      "cell_type": "markdown",
      "metadata": {
        "id": "TkAP96H6AId9"
      },
      "source": [
        "<b>Model Object:</b>\n"
      ]
    },
    {
      "cell_type": "code",
      "execution_count": 10,
      "metadata": {
        "tags": [],
        "id": "reF7PEqYAId-",
        "outputId": "4dfe4ffe-c901-47d8-b286-832247407997",
        "colab": {
          "base_uri": "https://localhost:8080/"
        }
      },
      "outputs": [
        {
          "output_type": "execute_result",
          "data": {
            "text/plain": [
              "2"
            ]
          },
          "metadata": {},
          "execution_count": 10
        }
      ],
      "source": [
        "dataset_train[0][0].shape\n",
        "\n",
        "input_dim=3*227*227\n",
        "input_dim\n",
        "\n",
        "output_dim=2\n",
        "output_dim"
      ]
    },
    {
      "cell_type": "code",
      "execution_count": 11,
      "metadata": {
        "id": "MmvNCwgiAId-",
        "outputId": "c9774e9f-672c-4a7b-e958-36338b78ef56",
        "colab": {
          "base_uri": "https://localhost:8080/"
        }
      },
      "outputs": [
        {
          "output_type": "stream",
          "name": "stdout",
          "text": [
            "Print the model:\n",
            "  SoftMax(\n",
            "  (linear): Linear(in_features=154587, out_features=2, bias=True)\n",
            ")\n",
            "W:  torch.Size([2, 154587])\n",
            "b:  torch.Size([2])\n"
          ]
        }
      ],
      "source": [
        "model = SoftMax(input_dim, output_dim)\n",
        "print(\"Print the model:\\n \", model)\n",
        "\n",
        "print('W: ',list(model.parameters())[0].size())\n",
        "print('b: ',list(model.parameters())[1].size())"
      ]
    },
    {
      "cell_type": "markdown",
      "metadata": {
        "id": "TZoUNDzeAId_"
      },
      "source": [
        "<b>Optimizer:</b>\n"
      ]
    },
    {
      "cell_type": "code",
      "execution_count": 12,
      "metadata": {
        "id": "r2OypLJvAId_"
      },
      "outputs": [],
      "source": [
        "learning_rate = 0.15\n",
        "momentum = 0.15\n",
        "optimizer = torch.optim.SGD(model.parameters(), lr=learning_rate, momentum=momentum)"
      ]
    },
    {
      "cell_type": "markdown",
      "metadata": {
        "id": "qZQg_OvJAIeD"
      },
      "source": [
        "<b>Criterion:</b>\n"
      ]
    },
    {
      "cell_type": "code",
      "execution_count": 13,
      "metadata": {
        "id": "7N4sBzUlAIeE"
      },
      "outputs": [],
      "source": [
        "criterion = nn.CrossEntropyLoss()"
      ]
    },
    {
      "cell_type": "markdown",
      "metadata": {
        "id": "Tr48z4YzAIeE"
      },
      "source": [
        "<b>Data Loader Training and Validation:</b>\n"
      ]
    },
    {
      "cell_type": "code",
      "execution_count": 14,
      "metadata": {
        "id": "JfPyhyDCAIeE"
      },
      "outputs": [],
      "source": [
        "train_dataset=dataset_train\n",
        "validation_dataset=dataset_val"
      ]
    },
    {
      "cell_type": "code",
      "execution_count": 15,
      "metadata": {
        "id": "HTY_zIKmAIeF"
      },
      "outputs": [],
      "source": [
        "train_loader = torch.utils.data.DataLoader(dataset=train_dataset, batch_size=50)\n",
        "validation_loader = torch.utils.data.DataLoader(dataset=validation_dataset, batch_size=50)"
      ]
    },
    {
      "cell_type": "markdown",
      "metadata": {
        "id": "mrnwv6pnAIeF"
      },
      "source": [
        "<b>Train Model with 5 epochs, should take 35 minutes: </b>\n"
      ]
    },
    {
      "cell_type": "code",
      "execution_count": 16,
      "metadata": {
        "id": "agxKn-2rAIeF",
        "colab": {
          "base_uri": "https://localhost:8080/"
        },
        "outputId": "a54b429c-d8a2-4a9e-8fc9-61924791230d"
      },
      "outputs": [
        {
          "output_type": "stream",
          "name": "stdout",
          "text": [
            "Epoch 1/10, Loss: 1436.2410, Accuracy: 0.8040\n",
            "Epoch 2/10, Loss: 902.8205, Accuracy: 0.8128\n",
            "Epoch 3/10, Loss: 829.9498, Accuracy: 0.8057\n",
            "Epoch 4/10, Loss: 799.7469, Accuracy: 0.8138\n",
            "Epoch 5/10, Loss: 778.2603, Accuracy: 0.8193\n",
            "Epoch 6/10, Loss: 705.8727, Accuracy: 0.8237\n",
            "Epoch 7/10, Loss: 711.1458, Accuracy: 0.8214\n",
            "Epoch 8/10, Loss: 724.9621, Accuracy: 0.8239\n",
            "Epoch 9/10, Loss: 662.2767, Accuracy: 0.8265\n",
            "Epoch 10/10, Loss: 644.2550, Accuracy: 0.8263\n"
          ]
        }
      ],
      "source": [
        "n_epochs = 10\n",
        "loss_list = []\n",
        "accuracy_list = []\n",
        "N_test = len(validation_dataset)\n",
        "\n",
        "def train_model(n_epochs):\n",
        "    for epoch in range(n_epochs):\n",
        "        epoch_loss = 0\n",
        "        for i, (x, y) in enumerate(train_loader):\n",
        "            optimizer.zero_grad()\n",
        "            z = model(x.view(-1, 3 * 227 * 227))\n",
        "            loss = criterion(z, y)\n",
        "            loss.backward()\n",
        "            optimizer.step()\n",
        "            epoch_loss += loss.item()\n",
        "\n",
        "        correct = 0\n",
        "        # Perform a prediction on the validation data\n",
        "        for x_test, y_test in validation_loader:\n",
        "            z = model(x_test.view(-1, 3 * 227 * 227))\n",
        "            _, yhat = torch.max(z.data, 1)\n",
        "            correct += (yhat == y_test).sum().item()\n",
        "\n",
        "        accuracy = correct / N_test\n",
        "        epoch_loss /= len(train_loader)\n",
        "        loss_list.append(epoch_loss)\n",
        "        accuracy_list.append(accuracy)\n",
        "\n",
        "        print(f'Epoch {epoch+1}/{n_epochs}, Loss: {epoch_loss:.4f}, Accuracy: {accuracy:.4f}')\n",
        "\n",
        "train_model(n_epochs)"
      ]
    },
    {
      "cell_type": "code",
      "execution_count": 17,
      "metadata": {
        "id": "bFqYSHYSAIeG",
        "colab": {
          "base_uri": "https://localhost:8080/",
          "height": 487
        },
        "outputId": "3a7be185-ce2b-4010-9e57-765791ed5e80"
      },
      "outputs": [
        {
          "output_type": "display_data",
          "data": {
            "text/plain": [
              "<Figure size 640x480 with 2 Axes>"
            ],
            "image/png": "[encoded data removed]"
          },
          "metadata": {}
        }
      ],
      "source": [
        "fig, ax1 = plt.subplots()\n",
        "color = 'tab:red'\n",
        "ax1.plot(loss_list,color=color)\n",
        "ax1.set_xlabel('epoch',color=color)\n",
        "ax1.set_ylabel('total loss',color=color)\n",
        "ax1.tick_params(axis='y', color=color)\n",
        "\n",
        "ax2 = ax1.twinx()\n",
        "color = 'tab:blue'\n",
        "ax2.set_ylabel('accuracy', color=color)\n",
        "ax2.plot( accuracy_list, color=color)\n",
        "ax2.tick_params(axis='y', color=color)\n",
        "fig.tight_layout()"
      ]
    },
    {
      "cell_type": "markdown",
      "metadata": {
        "id": "6p5pfLddAIeH"
      },
      "source": [
        "<h2>About the Authors:</h2>\n",
        " <a href=\\\"https://www.linkedin.com/in/joseph-s-50398b136/\\\">Joseph Santarcangelo</a> has a PhD in Electrical Engineering, his research focused on using machine learning, signal processing, and computer vision to determine how videos impact human cognition. Joseph has been working for IBM since he completed his PhD.\n"
      ]
    },
    {
      "cell_type": "markdown",
      "metadata": {
        "id": "o6aJUn8lAIeH"
      },
      "source": [
        "\n",
        "## Change Log\n",
        "\n",
        "|  Date (YYYY-MM-DD) |  Version | Changed By  |  Change Description |\n",
        "|---|---|---|---|\n",
        "| 2020-09-18  | 2.0  | Shubham  |  Migrated Lab to Markdown and added to course repo in GitLab |\n",
        "\n"
      ]
    },
    {
      "cell_type": "markdown",
      "metadata": {
        "id": "lZ3Pfwj-AIeI"
      },
      "source": [
        "Copyright &copy; 2019 <a href=\"cognitiveclass.ai\"> cognitiveclass.ai</a>. This notebook and its source code are released under the terms of the <a href=\"https://bigdatauniversity.com/mit-license/\">MIT License</a>\n"
      ]
    },
    {
      "cell_type": "code",
      "execution_count": 17,
      "metadata": {
        "id": "AHz5Mh77AIeI"
      },
      "outputs": [],
      "source": []
    }
  ],
  "metadata": {
    "kernelspec": {
      "display_name": "Python",
      "language": "python",
      "name": "conda-env-python-py"
    },
    "language_info": {
      "codemirror_mode": {
        "name": "ipython",
        "version": 3
      },
      "file_extension": ".py",
      "mimetype": "text/x-python",
      "name": "python",
      "nbconvert_exporter": "python",
      "pygments_lexer": "ipython3",
      "version": "3.7.12"
    },
    "prev_pub_hash": "d76b47f27f3838cee5fcf531fe9ce8abc439f204aaa935161f67b638f12e7c04",
    "colab": {
      "provenance": []
    }
  },
  "nbformat": 4,
  "nbformat_minor": 0
}